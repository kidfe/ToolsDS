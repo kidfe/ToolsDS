{
 "cells": [
  {
   "cell_type": "markdown",
   "id": "6474db6f",
   "metadata": {},
   "source": [
    "# Tools for Data Science Final Assignment"
   ]
  },
  {
   "cell_type": "markdown",
   "id": "c67251dc",
   "metadata": {},
   "source": [
    "My name is Nail Farkhatdinov and I am a cultural sociologist learning data science tools"
   ]
  },
  {
   "cell_type": "markdown",
   "id": "05f321eb",
   "metadata": {},
   "source": [
    "<h2>Objectives:</h2>\n",
    "<ol>\n",
    "    <li>To list Data Science languages\n",
    "    <li>To list Data Science tools\n",
    "    <li>To do basic arithmetic calculations using Python"
   ]
  },
  {
   "cell_type": "markdown",
   "id": "e08eec16",
   "metadata": {},
   "source": [
    "<p>There are many Data Science languages, the most popular are:\n",
    "<ol>\n",
    "    <li>Python\n",
    "    <li>R\n",
    "    <li>SQL\n",
    "</ol>\n",
    "<p>Other languages are:\n",
    "    <ul>\n",
    "        <li>Scala\n",
    "        <li>Java\n",
    "        <li>Julia\n",
    "    </ul>\n"
   ]
  },
  {
   "cell_type": "markdown",
   "id": "c0d9c1ab",
   "metadata": {},
   "source": [
    "<p>Data Scientists also use many libraries:\n",
    "    <ul>\n",
    "        <li>Panda for Python\n",
    "        <li>NumPy for Python\n",
    "        <li>SciPy for Python\n",
    "        <li>Matplotlib for Python\n",
    "        <li>other libraries depending on the language in use\n",
    "    </ul>"
   ]
  },
  {
   "cell_type": "markdown",
   "id": "c1467004",
   "metadata": {},
   "source": [
    "<h3>Data Science tools (selected list)</h3>\n",
    "\n",
    "| No. | Name | Type | Purpose |\n",
    "| -: | :- | :- | :- |\n",
    "| 1 | MySQL | Open source | Data management |\n",
    "| 2 | Apache AirFlow | Open source | Data intergration and transformation  |\n",
    "| 3 | Apache Superset | Open source | Data visualisation |\n",
    "| 4 | JupiterLab | Open source | Development environment |"
   ]
  },
  {
   "cell_type": "markdown",
   "id": "12435019",
   "metadata": {},
   "source": [
    "<p>In what follows the basic arithmetic calcualtions are produced using the Python code. We sum, multiple, divide, etc.\n",
    "<p>3 + 4*10 = ?"
   ]
  },
  {
   "cell_type": "code",
   "execution_count": 2,
   "id": "c6799089",
   "metadata": {},
   "outputs": [
    {
     "name": "stdout",
     "output_type": "stream",
     "text": [
      "43\n"
     ]
    }
   ],
   "source": [
    "# print(3 + 4*10)\n",
    "print(3+4*10)"
   ]
  },
  {
   "cell_type": "code",
   "execution_count": 5,
   "id": "d2d6f7be",
   "metadata": {},
   "outputs": [
    {
     "name": "stdout",
     "output_type": "stream",
     "text": [
      "7.166666666666667\n"
     ]
    }
   ],
   "source": [
    "# One hour has 60 minutes, so in order to convert minutes into hours, we have to divide minutes by hours. \n",
    "# For example we have 430 minutes\n",
    "print(430/60)"
   ]
  },
  {
   "cell_type": "markdown",
   "id": "1f129085",
   "metadata": {},
   "source": [
    "<h2>Author:</h2>\n",
    "<p>Nail Farkhatdinov"
   ]
  }
 ],
 "metadata": {
  "kernelspec": {
   "display_name": "Python 3 (ipykernel)",
   "language": "python",
   "name": "python3"
  },
  "language_info": {
   "codemirror_mode": {
    "name": "ipython",
    "version": 3
   },
   "file_extension": ".py",
   "mimetype": "text/x-python",
   "name": "python",
   "nbconvert_exporter": "python",
   "pygments_lexer": "ipython3",
   "version": "3.10.4"
  }
 },
 "nbformat": 4,
 "nbformat_minor": 5
}
