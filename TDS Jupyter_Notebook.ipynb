{
 "cells": [
  {
   "cell_type": "markdown",
   "metadata": {},
   "source": [
    "<center>\n",
    "    <img src=\"https://cf-courses-data.s3.us.cloud-object-storage.appdomain.cloud/IBMDeveloperSkillsNetwork-DS0105EN-SkillsNetwork/labs/Module2/images/SN_web_lightmode.png\" width=\"300\" alt=\"cognitiveclass.ai logo\">\n",
    "</center>\n"
   ]
  },
  {
   "cell_type": "markdown",
   "metadata": {},
   "source": [
    "#### Add your code below following the instructions given in the course\n"
   ]
  },
  {
   "cell_type": "markdown",
   "metadata": {},
   "source": [
    "# My Jupyter Notebook on IBM Watson Studio"
   ]
  },
  {
   "cell_type": "markdown",
   "metadata": {},
   "source": [
    "<b>Nail Farkhatdinov</b>\n",
    "<p>Data Scientist in Cultural Field"
   ]
  },
  {
   "cell_type": "markdown",
   "metadata": {},
   "source": [
    "<p><i>I am interested in Data Science because it provides a solution-centred perspective on reality. Looking at huge amounts of data, a professional should reveal patterns to address the problems and provide a certain data-driven vision on how to deal with it. "
   ]
  },
  {
   "cell_type": "markdown",
   "metadata": {},
   "source": [
    "<h3>The following code will say hello to those who are not familiar with data science yet</h3>"
   ]
  },
  {
   "cell_type": "code",
   "execution_count": 1,
   "metadata": {},
   "outputs": [
    {
     "name": "stdout",
     "output_type": "stream",
     "text": [
      "Welcome and hello to all who are new to Data Science\n"
     ]
    }
   ],
   "source": [
    "print(\"Welcome and hello to all who are new to Data Science\")"
   ]
  },
  {
   "cell_type": "markdown",
   "metadata": {},
   "source": [
    "<hr>\n",
    "<a href=researcharts.ru>Department of Research Arts</a>\n",
    "<ul>To start programming you need to install one of the following environments\n",
    "    <li>Jupyter\n",
    "    <li>R Studio\n",
    "</ul>\n",
    "<img src=https://f8n-production-collection-assets.imgix.net/0xB64112CD5a833F09a292568a7263ead1c854F6f2/1/nft.png?q=80&auto=format%2Ccompress&cs=srgb&w=3000&h=3000&fit=max width=300 align=center>\n",
    "<blockquote>\n",
    "Баю-баю, Машенька,<br>Тихое сердечко, <br>Проживешь ты страшненько. <br>И сгоришь, как свечка.\n",
    "</blockquote>"
   ]
  },
  {
   "cell_type": "markdown",
   "metadata": {},
   "source": []
  }
 ],
 "metadata": {
  "kernelspec": {
   "display_name": "Python 3 (ipykernel)",
   "language": "python",
   "name": "python3"
  },
  "language_info": {
   "codemirror_mode": {
    "name": "ipython",
    "version": 3
   },
   "file_extension": ".py",
   "mimetype": "text/x-python",
   "name": "python",
   "nbconvert_exporter": "python",
   "pygments_lexer": "ipython3",
   "version": "3.10.4"
  }
 },
 "nbformat": 4,
 "nbformat_minor": 4
}
